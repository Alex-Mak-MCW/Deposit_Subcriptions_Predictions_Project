version https://git-lfs.github.com/spec/v1
oid sha256:c3fef15752c4247e59b212ff3374c360bfebee177c57821b48f4e00dcd042e05
size 3137881
