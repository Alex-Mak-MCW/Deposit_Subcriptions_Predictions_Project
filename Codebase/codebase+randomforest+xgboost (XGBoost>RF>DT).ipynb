version https://git-lfs.github.com/spec/v1
oid sha256:aff42e4dab4d65ac4e979d201be2bc4063555e3373a08dad37aaf7e1b42d0668
size 4752560
